{
 "cells": [
  {
   "cell_type": "markdown",
   "id": "f5732cc1",
   "metadata": {},
   "source": [
    "# import package\n"
   ]
  },
  {
   "cell_type": "code",
   "execution_count": 2,
   "id": "73b10021",
   "metadata": {},
   "outputs": [],
   "source": [
    "import pandas as pd #To load the pandas package and start working with it, import the package"
   ]
  },
  {
   "cell_type": "code",
   "execution_count": 3,
   "id": "5f8121ae",
   "metadata": {},
   "outputs": [
    {
     "data": {
      "text/plain": [
       "'1.4.3'"
      ]
     },
     "execution_count": 3,
     "metadata": {},
     "output_type": "execute_result"
    }
   ],
   "source": [
    "pd.__version__"
   ]
  },
  {
   "cell_type": "code",
   "execution_count": 6,
   "id": "5e852d42",
   "metadata": {},
   "outputs": [
    {
     "name": "stdout",
     "output_type": "stream",
     "text": [
      "[1, 2, 3, -4, 6.2, 'data values']\n"
     ]
    }
   ],
   "source": [
    "list_s=[1,2,3,-4,6.2,'data values']\n",
    "print(list_s)"
   ]
  },
  {
   "cell_type": "markdown",
   "id": "a960496d",
   "metadata": {},
   "source": [
    "# how to create series"
   ]
  },
  {
   "cell_type": "code",
   "execution_count": null,
   "id": "f88bfac6",
   "metadata": {},
   "outputs": [],
   "source": [
    "# series1=pd.Series(list_s) #series is a single coulmn with indexing.here we have different data types thats \n",
    "                          #why it dtype showing is object,bcoz of diff dtypes it is stored in object dtype.\n",
    "print(series1)\n",
    "#INDEX       #DATA "
   ]
  },
  {
   "cell_type": "code",
   "execution_count": 9,
   "id": "321e24d0",
   "metadata": {},
   "outputs": [
    {
     "data": {
      "text/plain": [
       "pandas.core.series.Series"
      ]
     },
     "execution_count": 9,
     "metadata": {},
     "output_type": "execute_result"
    }
   ],
   "source": [
    "#for checking type\n",
    "type(series1)"
   ]
  },
  {
   "cell_type": "code",
   "execution_count": 10,
   "id": "ebe88ac1",
   "metadata": {},
   "outputs": [
    {
     "name": "stdout",
     "output_type": "stream",
     "text": [
      "0    1\n",
      "1    2\n",
      "2    3\n",
      "3    4\n",
      "dtype: int64\n"
     ]
    }
   ],
   "source": [
    "#shorthand to make series\n",
    "series2=pd.Series([1,2,3,4])\n",
    "print(series2)"
   ]
  },
  {
   "cell_type": "markdown",
   "id": "31e97816",
   "metadata": {},
   "source": [
    "# empty series"
   ]
  },
  {
   "cell_type": "code",
   "execution_count": 16,
   "id": "2162a088",
   "metadata": {},
   "outputs": [
    {
     "name": "stdout",
     "output_type": "stream",
     "text": [
      "Series([], dtype: int32)\n"
     ]
    }
   ],
   "source": [
    "#lets create an empty series\n",
    "empty_Series=pd.Series([],dtype=int)\n",
    "print(empty_Series)"
   ]
  },
  {
   "cell_type": "code",
   "execution_count": 17,
   "id": "a81b7fe9",
   "metadata": {},
   "outputs": [
    {
     "name": "stdout",
     "output_type": "stream",
     "text": [
      "a    1\n",
      "b    2\n",
      "c    3\n",
      "d    4\n",
      "Name: data value, dtype: int32\n"
     ]
    }
   ],
   "source": [
    "#create a new series with all its parameters\n",
    "series3=pd.Series([1,2,3,4],index=['a','b','c','d'],dtype=int,name='data value')   \n",
    "print(series3)\n",
    "#ind #data value\n",
    " #|     |\n",
    "# v     v"
   ]
  },
  {
   "cell_type": "markdown",
   "id": "29143b7d",
   "metadata": {},
   "source": [
    "# series with scalar values"
   ]
  },
  {
   "cell_type": "code",
   "execution_count": 21,
   "id": "fc6df04a",
   "metadata": {},
   "outputs": [
    {
     "name": "stdout",
     "output_type": "stream",
     "text": [
      "0    5\n",
      "dtype: int64\n"
     ]
    }
   ],
   "source": [
    "#creating series with scalar/single value\n",
    "scalar_series=pd.Series(5)\n",
    "print(scalar_series)"
   ]
  },
  {
   "cell_type": "code",
   "execution_count": 23,
   "id": "8992a699",
   "metadata": {},
   "outputs": [
    {
     "name": "stdout",
     "output_type": "stream",
     "text": [
      "1    5\n",
      "2    5\n",
      "3    5\n",
      "4    5\n",
      "Name: dv, dtype: int64\n"
     ]
    }
   ],
   "source": [
    "#creating series with scalar/single value with multiple indexes let see how\n",
    "scalar_series=pd.Series(5,index=[1,2,3,4],name=\"dv\")\n",
    "print(scalar_series)"
   ]
  },
  {
   "cell_type": "markdown",
   "id": "b166caeb",
   "metadata": {},
   "source": [
    "# series with dictionaries"
   ]
  },
  {
   "cell_type": "code",
   "execution_count": 26,
   "id": "f93922cd",
   "metadata": {},
   "outputs": [
    {
     "name": "stdout",
     "output_type": "stream",
     "text": [
      "a    1\n",
      "b    2\n",
      "c    3\n",
      "dtype: int64\n"
     ]
    }
   ],
   "source": [
    "#creating series from dictionaries\n",
    "dict_s=pd.Series({'a':1,'b':2,'c':3})\n",
    "print(dict_s)"
   ]
  },
  {
   "cell_type": "markdown",
   "id": "e8c221d9",
   "metadata": {},
   "source": [
    "# arithmetic on series "
   ]
  },
  {
   "cell_type": "code",
   "execution_count": 28,
   "id": "d224e49b",
   "metadata": {},
   "outputs": [
    {
     "name": "stdout",
     "output_type": "stream",
     "text": [
      "0    2\n",
      "1    4\n",
      "2    6\n",
      "3    8\n",
      "dtype: int64\n"
     ]
    }
   ],
   "source": [
    "series4=pd.Series([1,2,3,4])\n",
    "print(series2+series4)\n",
    "#arithmetic and logical operations on series"
   ]
  },
  {
   "cell_type": "code",
   "execution_count": 29,
   "id": "f0f0cd28",
   "metadata": {},
   "outputs": [
    {
     "data": {
      "text/plain": [
       "8"
      ]
     },
     "execution_count": 29,
     "metadata": {},
     "output_type": "execute_result"
    }
   ],
   "source": [
    "max(series2+series4)"
   ]
  },
  {
   "cell_type": "code",
   "execution_count": 30,
   "id": "3f344f4d",
   "metadata": {},
   "outputs": [
    {
     "data": {
      "text/plain": [
       "2"
      ]
     },
     "execution_count": 30,
     "metadata": {},
     "output_type": "execute_result"
    }
   ],
   "source": [
    "min(series2+series4)"
   ]
  }
 ],
 "metadata": {
  "kernelspec": {
   "display_name": "Python 3 (ipykernel)",
   "language": "python",
   "name": "python3"
  },
  "language_info": {
   "codemirror_mode": {
    "name": "ipython",
    "version": 3
   },
   "file_extension": ".py",
   "mimetype": "text/x-python",
   "name": "python",
   "nbconvert_exporter": "python",
   "pygments_lexer": "ipython3",
   "version": "3.9.1"
  }
 },
 "nbformat": 4,
 "nbformat_minor": 5
}
